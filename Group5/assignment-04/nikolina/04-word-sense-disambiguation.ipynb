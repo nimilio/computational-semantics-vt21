{
 "cells": [
  {
   "cell_type": "markdown",
   "metadata": {},
   "source": [
    "# Word Sense Disambiguation using Neural Networks\n",
    "Adam Ek\n",
    "\n",
    "----------------------------------\n",
    "\n",
    "The lab is an exploration and learning exercise to be done in a group and also in discussion with the teachers and other students.\n",
    "\n",
    "Before starting, please read the instructions on [how to work on group assignments](https://github.com/sdobnik/computational-semantics/blob/master/README.md).\n",
    "\n",
    "Write all your answers and the code in the appropriate boxes below.\n",
    "\n",
    "----------------------------------"
   ]
  },
  {
   "cell_type": "markdown",
   "metadata": {},
   "source": [
    "A problem with static distributional vectors is the difficulty of distinguishing between different *word senses*. We will continue our exploration of word vectors by considering *trainable vectors* or *word embeddings* for Word Sense Disambiguation (WSD).\n",
    "\n",
    "The goal of word sense disambiguation is to train a model to find the sense of a word (homonyms of a word-form). For example, the word \"bank\" can mean \"sloping land\" or \"financial institution\". \n",
    "\n",
    "(a) \"I deposited my money in the **bank**\" (financial institution)\n",
    "\n",
    "(b) \"I swam from the river **bank**\" (sloping land)\n",
    "\n",
    "In case a) and b) we can determine that the meaning of \"bank\" based on the *context*. To utilize context in a semantic model we use *contextualized word representations*. Previously we worked with *static word representations*, i.e. the representation does not depend on the context. To illustrate we can consider sentences (a) and (b), the word **bank** would have the same static representation in both sentences, which means that it becomes difficult for us to predict its sense. What we want is to create representations that depend on the context, i.e. *contextualized embeddings*. \n",
    "\n",
    "We will create contextualized embeddings with Recurrent Neural Networks. You can read more about recurrent neural netoworks [here](https://colah.github.io/posts/2015-08-Understanding-LSTMs/). Your overall task in this lab is to create a neural network model that can disambiguate the word sense of 30 different words. "
   ]
  },
  {
   "cell_type": "code",
   "execution_count": 1,
   "metadata": {},
   "outputs": [],
   "source": [
    "# first we import some packages that we need\n",
    "import torch\n",
    "import torch.nn as nn\n",
    "import torchtext\n",
    "\n",
    "# our hyperparameters (add more when/if you need them)\n",
    "#device = torch.device('cuda:0')\n",
    "device = torch.device('cpu')\n",
    "\n",
    "batch_size = 8\n",
    "learning_rate = 0.001\n",
    "epochs = 3\n",
    "embedding_dim = 32"
   ]
  },
  {
   "cell_type": "markdown",
   "metadata": {},
   "source": [
    "# 1. Working with data\n",
    "\n",
    "A central part of any machine learning system is the data we're working with. In this section we will split the data (the dataset is located here: ``wsd-data/wsd_data.txt``) into a training set and a test set. We will also create a baseline to compare our model against. Finally, we will use TorchText to transform our data (raw text) into a convenient format that our neural network can work with."
   ]
  },
  {
   "cell_type": "markdown",
   "metadata": {},
   "source": [
    "## Data\n",
    "\n",
    "The dataset we will use contain different word sense for 30 different words. The data is organized as follows (values separated by tabs): \n",
    "- Column 1: word-sense\n",
    "- Column 2: word-form\n",
    "- Column 3: index of word\n",
    "- Column 4: white-space tokenized context"
   ]
  },
  {
   "cell_type": "markdown",
   "metadata": {},
   "source": [
    "### Splitting the data\n",
    "\n",
    "Your first task is to seperate the data into a *training set* and a *test set*. The training set should contain 80% of the examples and the test set the remaining 20%. The examples for the test/training set should be selected **randomly**. Save each dataset into a .csv file for loading later. **[2 marks]**"
   ]
  },
  {
   "cell_type": "code",
   "execution_count": 2,
   "metadata": {},
   "outputs": [],
   "source": [
    "import random\n",
    "\n",
    "\n",
    "def data_split(path_to_dataset):\n",
    "\n",
    "    with open (path_to_dataset, \"r\") as f:\n",
    "        content = f.readlines()\n",
    "    random.shuffle(content)\n",
    "    samples = len(content)\n",
    "    train = (samples*80)//100\n",
    "    train_set = content[:train]\n",
    "    test_set = content[train:]\n",
    "\n",
    "\n",
    "    with open('train.csv', 'w') as output:\n",
    "        for data in train_set:\n",
    "            output.write(data)\n",
    "\n",
    "    with open('test.csv', 'w') as output:\n",
    "        for data in test_set:\n",
    "            output.write(data)\n",
    "\n",
    "path = \"./wsd-data/wsd_data.txt\"\n",
    "data_split(path)"
   ]
  },
  {
   "cell_type": "markdown",
   "metadata": {},
   "source": [
    "### Creating a baseline\n",
    "\n",
    "Your second task is to create a *baseline* for the task. A baseline is a \"reality check\" for a model, given a very simple heuristic/algorithmic/model solution to the problem, can our neural network perform better than this?\n",
    "The baseline you are to create is the \"most common sense\" (MCS) baseline. For each word form, find the most commonly assigned sense to the word, and label a words with that sense. **[2 marks]**\n",
    "\n",
    "E.g. In a fictional dataset, \"bank\" have two senses, \"financial institution\" which occur 5 times and \"side of river\" 3 times. Thus, all 8 occurences of bank is labeled \"financial institution\" and this yields an MCS accuracy of 5/8 = 62.5%. If a model obtain a higher score than this, we can conclude that the model *at least* is better than selecting the most frequent word sense."
   ]
  },
  {
   "cell_type": "code",
   "execution_count": 4,
   "metadata": {},
   "outputs": [
    {
     "name": "stdout",
     "output_type": "stream",
     "text": [
      "{'keep.v': {'keep%2:42:07::': 1155, 'keep%2:35:10::': 28, 'keep%2:41:03::': 2114, 'keep%2:40:00::': 858, 'keep%2:42:00::': 703, 'keep%2:40:01::': 192, 'keep%2:41:01::': 80, 'keep%2:32:00::': 108, 'keep%2:40:13::': 92, 'keep%2:40:09::': 22, 'keep%2:31:00::': 41}, 'national.a': {'national%3:01:00::': 205, 'national%3:00:01::': 429, 'national%5:00:00:public:00': 218, 'national%3:01:01::': 425, 'national%3:00:00::': 439, 'national%5:00:00:domestic:00': 430}, 'build.v': {'build%2:31:03::': 425, 'build%2:36:00::': 529, 'build%2:36:04::': 38, 'build%2:36:09::': 429, 'build%2:30:10::': 326, 'build%2:30:00::': 179, 'build%2:30:02::': 426, 'build%2:41:00::': 48, 'build%2:30:05::': 58, 'build%2:36:10::': 37}, 'place.n': {'place%1:04:00::': 33, 'place%1:04:01::': 433, 'place%1:26:00::': 427, 'place%1:15:00::': 469, 'place%1:15:04::': 456, 'place%1:15:06::': 91, 'place%1:10:02::': 22}, 'position.n': {'position%1:04:01::': 436, 'position%1:26:00::': 435, 'position%1:15:00::': 448, 'position%1:26:02::': 426, 'position%1:09:00::': 440, 'position%1:07:01::': 36}, 'serve.v': {'serve%2:41:02::': 442, 'serve%2:35:00::': 117, 'serve%2:33:00::': 456, 'serve%2:42:01::': 445, 'serve%2:42:12::': 379, 'serve%2:42:00::': 428, 'serve%2:41:13::': 242, 'serve%2:42:03::': 470, 'serve%2:41:00::': 51}, 'hold.v': {'hold%2:31:01::': 442, 'hold%2:35:03::': 436, 'hold%2:32:11::': 267, 'hold%2:36:00::': 475, 'hold%2:42:00::': 250, 'hold%2:40:02::': 91, 'hold%2:40:04::': 431, 'hold%2:40:00::': 442, 'hold%2:31:10::': 191, 'hold%2:35:00::': 55, 'hold%2:41:15::': 46}, 'line.n': {'line%1:04:01::': 4720, 'line%1:09:00::': 177, 'line%1:06:09::': 80, 'line%1:14:02::': 55, 'line%1:15:02::': 89, 'line%1:06:07::': 208, 'line%1:06:01::': 40, 'line%1:06:03::': 69, 'line%1:14:01::': 22, 'line%1:04:00::': 51, 'line%1:10:02::': 34}, 'see.v': {'see%2:31:00::': 4103, 'see%2:39:12::': 50, 'see%2:39:02::': 815, 'see%2:32:00::': 96, 'see%2:31:03::': 418, 'see%2:31:01::': 431, 'see%2:39:00::': 448, 'see%2:39:03::': 25, 'see%2:31:02::': 34, 'see%2:36:00::': 55, 'see%2:41:11::': 63}, 'time.n': {'time%1:28:00::': 490, 'time%1:28:06::': 456, 'time%1:28:05::': 554, 'time%1:11:00::': 591, 'time%1:03:00::': 30}, 'physical.a': {'physical%3:00:00::': 448, 'physical%5:00:02:material:01': 425, 'physical%5:00:00:material:01': 430, 'physical%3:01:00::': 430, 'physical%5:00:00:forceful:00': 124, 'physical%5:00:00:natural:03': 38}, 'follow.v': {'follow%2:36:00::': 281, 'follow%2:42:02::': 436, 'follow%2:38:13::': 425, 'follow%2:40:00::': 433, 'follow%2:41:02::': 228, 'follow%2:38:01::': 442, 'follow%2:41:00::': 441, 'follow%2:41:10::': 63, 'follow%2:42:00::': 45, 'follow%2:38:00::': 481, 'follow%2:42:05::': 22}, 'regular.a': {'regular%5:00:00:standard:02': 429, 'regular%5:00:00:scheduled:00': 427, 'regular%3:00:00::': 198, 'regular%5:00:00:frequent:00': 426, 'regular%5:00:00:symmetrical:00': 210, 'regular%5:00:00:normal:01': 122, 'regular%5:00:00:usual:00': 129, 'regular%5:00:00:steady:00': 33}, 'bad.a': {'bad%3:00:00::': 420, 'bad%5:00:00:inferior:02': 217, 'bad%5:00:00:intense:00': 1052, 'bad%5:00:00:invalid:00': 43}, 'force.n': {'force%1:07:01::': 448, 'force%1:14:00::': 437, 'force%1:18:00::': 426, 'force%1:04:01::': 430, 'force%1:07:02::': 425, 'force%1:14:01::': 430, 'force%1:14:02::': 131, 'force%1:07:00::': 26}, 'professional.a': {'professional%3:00:02::': 278, 'professional%3:01:01::': 435, 'professional%3:01:00::': 429, 'professional%3:00:01::': 436, 'professional%5:00:00:white-collar:00': 426}, 'security.n': {'security%1:14:00::': 425, 'security%1:26:00::': 440, 'security%1:21:04::': 425, 'security%1:10:00::': 80, 'security%1:21:01::': 430, 'security%1:12:00::': 252, 'security%1:04:00::': 112}, 'positive.a': {'positive%5:00:00:advantageous:00': 292, 'positive%5:00:00:plus:00': 240, 'positive%3:00:01::': 431, 'positive%3:00:04::': 196, 'positive%5:00:00:formal:01': 57}, 'point.n': {'point%1:10:01::': 170, 'point%1:09:01::': 680, 'point%1:28:00::': 440, 'point%1:15:00::': 255, 'point%1:09:02::': 129, 'point%1:23:01::': 48, 'point%1:26:00::': 147, 'point%1:09:00::': 44}, 'common.a': {'common%5:00:00:shared:00': 437, 'common%3:00:01::': 437, 'common%5:00:00:familiar:02': 433, 'common%3:00:02::': 437}, 'find.v': {'find%2:40:02::': 556, 'find%2:39:02::': 115, 'find%2:40:01::': 32, 'find%2:31:10::': 473, 'find%2:32:00::': 472, 'find%2:32:01::': 439, 'find%2:39:01::': 191, 'find%2:40:00::': 69, 'find%2:31:09::': 23, 'find%2:36:00::': 29}, 'life.n': {'life%1:26:01::': 481, 'life%1:26:02::': 32, 'life%1:28:00::': 442, 'life%1:28:01::': 410, 'life%1:28:02::': 430, 'life%1:03:00::': 121, 'life%1:09:00::': 44, 'life%1:18:00::': 130, 'life%1:07:01::': 51}, 'order.n': {'order%1:10:03::': 440, 'order%1:10:00::': 427, 'order%1:14:00::': 431, 'order%1:26:00::': 279, 'order%1:10:01::': 427}, 'bring.v': {'bring%2:38:00::': 528, 'bring%2:36:01::': 428, 'bring%2:35:00::': 441, 'bring%2:36:00::': 451, 'bring%2:35:04::': 470, 'bring%2:37:05::': 53, 'bring%2:30:00::': 92, 'bring%2:40:02::': 31}, 'active.a': {'active%5:00:00:operational:00': 323, 'active%3:00:03::': 430, 'active%5:00:00:involved:00': 429, 'active%3:00:01::': 24, 'active%3:00:07::': 136}, 'extend.v': {'extend%2:30:02::': 426, 'extend%2:40:04::': 414, 'extend%2:30:09::': 426, 'extend%2:30:06::': 425, 'extend%2:40:05::': 199, 'extend%2:30:01::': 442, 'extend%2:29:01::': 120}, 'case.n': {'case%1:11:00::': 480, 'case%1:10:02::': 428, 'case%1:26:00::': 454, 'case%1:10:01::': 428, 'case%1:04:00::': 382, 'case%1:09:00::': 87, 'case%1:18:03::': 68, 'case%1:06:00::': 29}, 'lead.v': {'lead%2:41:00::': 436, 'lead%2:38:01::': 458, 'lead%2:42:12::': 442, 'lead%2:38:00::': 429, 'lead%2:42:01::': 148, 'lead%2:42:03::': 180, 'lead%2:41:12::': 426, 'lead%2:42:04::': 30}, 'critical.a': {'critical%3:00:03::': 426, 'critical%5:00:00:indispensable:00': 428, 'critical%3:00:02::': 259, 'critical%5:00:00:crucial:00': 24, 'critical%3:00:01::': 430}, 'major.a': {'major%3:00:01::': 177, 'major%3:00:02::': 448, 'major%3:00:06::': 457, 'major%3:00:07::': 425}}\n"
     ]
    }
   ],
   "source": [
    "import collections\n",
    "from collections import Counter\n",
    "\n",
    "def mcs_baseline(data):\n",
    "    form_sense = {}\n",
    "\n",
    "    with open (data, \"r\") as f:\n",
    "        content = f.readlines()\n",
    "    for data in content:\n",
    "        new = data.strip().split('\\t')\n",
    "        if new[1] not in form_sense:\n",
    "            form_sense[(new[1])] = []\n",
    "        form_sense[(new[1])].append(new[0])\n",
    "    for key, value in form_sense.items():\n",
    "        counter=collections.Counter(value)\n",
    "        counter = dict(Counter(counter))\n",
    "        form_sense[key] = counter\n",
    "        \n",
    "    print(form_sense)\n",
    "    \n",
    "path = \"./wsd-data/wsd_data.txt\"\n",
    "mcs_baseline(path)"
   ]
  },
  {
   "cell_type": "markdown",
   "metadata": {},
   "source": [
    "### Creating data iterators\n",
    "\n",
    "To train a neural network, we first need to prepare the data. This involves converting words (and labels) to a number, and organizing the data into batches. We also want the ability to shuffle the examples such that they appear in a random order.  \n",
    "\n",
    "To do all of this we will use the torchtext library (https://torchtext.readthedocs.io/en/latest/index.html). In addition to converting our data into numerical form and creating batches, it will generate a word and label vocabulary, and data iterators than can sort and shuffle the examples. \n",
    "\n",
    "Your task is to create a dataloader for the training and test set you created previously. So, how do we go about doing this?\n",
    "\n",
    "1) First we create a ``Field`` for each of our columns. A field is a function which tokenize the input, keep a dictionary of word-to-numbers, and fix paddings. So, we need four fields, one for the word-sense, one for the position, one for the lemma and one for the context. \n",
    "\n",
    "2) After we have our fields, we need to process the data. For this we use the ``TabularDataset`` class. We pass the name and path of the training and test files we created previously, then we assign which field to use in each column. The result is that each column will be processed by the field indicated. So, the context column will be tokenized and processed by the context field and so on. \n",
    "\n",
    "3) After we have processed the dataset we need to build the vocabulary, for this we call the function ``build_vocab()`` on the different ``Fields`` with the output from ``TabularDataset`` as input. This looks at our dataset and creates the necessary vocabularies (word-to-number mappings). \n",
    "\n",
    "4) Finally, the last step. In the last step we load the data objects given by the ``TabularDataset`` and pass it to the ``BucketIterator`` class. This class will organize our examples into batches and shuffle them around (such that for each epoch the model observe the examples in a different order). When we are done with this we can let our function return the data iterators and vocabularies, then we are ready to train and test our model!\n",
    "\n",
    "Implement the dataloader. [**2 marks**]\n",
    "\n",
    "*hint: for TabularDataset and BucketIterator use the class function splits()* "
   ]
  },
  {
   "cell_type": "code",
   "execution_count": 9,
   "metadata": {},
   "outputs": [
    {
     "data": {
      "text/plain": [
       "(<torchtext.legacy.data.dataset.TabularDataset at 0x7fd32138b890>,\n",
       " <torchtext.legacy.data.dataset.TabularDataset at 0x7fd32138b3d0>,\n",
       " <torchtext.legacy.data.field.Field at 0x7fd33f448550>,\n",
       " <torchtext.legacy.data.field.Field at 0x7fd33f4480d0>,\n",
       " <torchtext.legacy.data.field.Field at 0x7fd32138b6d0>,\n",
       " <torchtext.legacy.data.field.Field at 0x7fd32138b710>)"
      ]
     },
     "execution_count": 9,
     "metadata": {},
     "output_type": "execute_result"
    }
   ],
   "source": [
    "from torchtext.legacy.data import Field, BucketIterator, TabularDataset\n",
    "\n",
    "def dataloader():\n",
    "    ddir = './'\n",
    "    whitespacer = lambda x: x.split(' ')\n",
    "\n",
    "    # \"fields\" that process the different columns in our CSV files\n",
    "    # similar to assignment 3 given example\n",
    "    # IS THERE ANYTHING TO TOKENIZE IN THE FIRST 3???\n",
    "    WORD_SENSE = Field(lower = True,\n",
    "                   batch_first = True) # enforce the (batch, words) structure\n",
    "\n",
    "    POSITION = Field(batch_first = True)\n",
    "    \n",
    "    LEMMA = Field(batch_first = True)\n",
    "    \n",
    "    CONTEXT = Field(tokenize    = whitespacer,\n",
    "                    lower       = True,\n",
    "                    batch_first = True)\n",
    "\n",
    "    # read the csv files\n",
    "    train, test = TabularDataset.splits(path   = ddir,\n",
    "                                        train  = 'train.csv',\n",
    "                                        test   = 'test.csv',\n",
    "                                        format = 'csv',\n",
    "                                        fields = [('word_sense', WORD_SENSE),\n",
    "                                                  ('position', POSITION),\n",
    "                                                  ('lemma', LEMMA),\n",
    "                                                  ('context', CONTEXT)],\n",
    "                                        skip_header       = False,\n",
    "                                        csv_reader_params = {'delimiter':'\\t',\n",
    "                                                             'quotechar':'½'})\n",
    "\n",
    "    # build vocabularies based on what our csv files contained and create word2id mapping\n",
    "    CONTEXT.build_vocab(train)\n",
    "\n",
    "\n",
    "    # create batches from our data, and shuffle them for each epoch\n",
    "    train_iter, test_iter = BucketIterator.splits((train, test),\n",
    "                                                  batch_size        = 8,\n",
    "                                                  sort_within_batch = True,\n",
    "                                                  sort_key          = lambda x: len(x.context),\n",
    "                                                  shuffle           = True,\n",
    "                                                  device            = device)\n",
    "\n",
    "    return train, test, CONTEXT, WORD_SENSE # Do we need lemma and position?\n",
    "dataloader()"
   ]
  },
  {
   "cell_type": "markdown",
   "metadata": {},
   "source": [
    "# 2.1 Creating and running a Neural Network for WSD\n",
    "\n",
    "In this section we will create and run a neural network to predict word senses based on *contextualized representations*."
   ]
  },
  {
   "cell_type": "markdown",
   "metadata": {},
   "source": [
    "### Model\n",
    "\n",
    "We will use a bidirectional Long-Short-Term Memory (LSTM) network to create a representation for the sentences and a Linear classifier to predict the sense of each word.\n",
    "\n",
    "When we initialize the model, we need a few things:\n",
    "\n",
    "    1) An embedding layer: a dictionary from which we can obtain word embeddings\n",
    "    2) A LSTM-module to obtain contextual representations\n",
    "    3) A classifier that compute scores for each word-sense given *some* input\n",
    "\n",
    "\n",
    "The general procedure is the following:\n",
    "\n",
    "    1) For each word in the sentence, obtain word embeddings\n",
    "    2) Run the embedded sentences through the RNN\n",
    "    3) Select the appropriate hidden state\n",
    "    4) Predict the word-sense \n",
    "\n",
    "**Suggestion for efficiency:**  *Use a low dimensionality (32) for word embeddings and the LSTM when developing and testing the code, then scale up when running the full training/tests*\n",
    "    \n",
    "Your tasks will be to create two different models (both follow the two outlines described above), described below:"
   ]
  },
  {
   "cell_type": "markdown",
   "metadata": {},
   "source": [
    "In the first approach to WSD, you are to select the index of our target word (column 3 in the dataset) and predict the word sense. **[5 marks]**\n"
   ]
  },
  {
   "cell_type": "code",
   "execution_count": null,
   "metadata": {},
   "outputs": [],
   "source": [
    "class WSDModel_approach1(nn.Module):\n",
    "    def __init__(self, hidden_dim, context_dim, embedding_dim, vocabulary_dim, batch_dim): #WHAT PARAMETERS DO WE NEED?\n",
    "        super(WSDModel_approach1, self).__init__()\n",
    "        self.embeddings = nn.Embedding(vocabulary_dim, embedding_dim)\n",
    "        self.rnn = nn.LSTM(embedding_dim, hidden_dim)\n",
    "        self.classifier = nn.Linear(context_dim, vocabulary_dim) # or should it be \"hidden_dim, context_dim\"?\n",
    "    \n",
    "    def forward(self, batch):\n",
    "        # embedd the words in out sentence\n",
    "        embedded_batch = self.embeddings(batch)\n",
    "        # create contextualized representations for our words\n",
    "        contextualized_representations, (h_n, c_n) = self.rnn(embedded_batch)\n",
    "        # h_n: tensor with hidden state\n",
    "        # c_n: tensor with cell state\n",
    "        # I think the above are the final hidden states, otherwise I should probably loop somehow to get the previous states as well\n",
    "        predictions = self.classifier(contextualized_representations)\n",
    "        \n",
    "        return predictions"
   ]
  },
  {
   "cell_type": "markdown",
   "metadata": {},
   "source": [
    "In the second approach to WSD, you are to predict the word sense based on the final hidden state given by the RNN. **[5 marks]**"
   ]
  },
  {
   "cell_type": "code",
   "execution_count": null,
   "metadata": {},
   "outputs": [],
   "source": [
    "class WSDModel_approach2(nn.Module):\n",
    "    def __init__(self, hidden_dim, context_dim, embedding_dim = 32, vocabulary_dim, batch_dim):\n",
    "        super(WSDModel_approach2, self).__init__()\n",
    "        self.embeddings = nn.Embedding(vocabulary_dim, embedding_dim)\n",
    "        self.rnn = nn.LSTM(embedding_dim, hidden_dim)\n",
    "        self.classifier = nn.Linear(hidden_dim, context_dim) # or should it be \"hidden_dim, context_dim\"?\n",
    "        \n",
    "    \n",
    "    def forward(self, batch):\n",
    "        # embedd the words in out sentence\n",
    "        embedded_batch = self.embeddings(batch)\n",
    "        # create contextualized representations for our words\n",
    "        contextualized_representations, (h_n, c_n) = self.rnn(embedded_batch)\n",
    "        # h_n: tensor with hidden state\n",
    "        # c_n: tensor with cell state\n",
    "        # I think the above are the final hidden states, otherwise I should probably loop somehow to get the previous states as well\n",
    "        predictions = self.classifier(contextualized_representations)\n",
    "        \n",
    "        return predictions"
   ]
  },
  {
   "cell_type": "markdown",
   "metadata": {},
   "source": [
    "### Training and testing the model\n",
    "\n",
    "Now we are ready to train and test our model. What we need now is a loss function, an optimizer, and our data. \n",
    "\n",
    "- First, create the loss function and the optimizer.\n",
    "- Next, we iterate over the number of epochs (i.e. how many times we let the model see our data). \n",
    "- For each epoch, iterate over the dataset (``train_iter``) to obtain batches. Use the batch as input to the model, and let the model output scores for the different word senses.\n",
    "- For each model output, calculate the loss (and print the loss) on the output and update the model parameters.\n",
    "- Reset the gradients and repeat.\n",
    "- After all epochs are done, test your trained model on the test set (``test_iter``) and calculate the total and per-word-form accuracy of your model.\n",
    "\n",
    "Implement the training and testing of the model **[4 marks]**\n",
    "\n",
    "**Suggestion for efficiency:** *when developing your model, try training and testing the model on one or two batches (for each epoch) of data to make sure everything works! It's very annoying if you train for N epochs to find out that something went wrong when testing the model, or to find that something goes wrong when moving from epoch 0 to epoch 1.*"
   ]
  },
  {
   "cell_type": "code",
   "execution_count": null,
   "metadata": {},
   "outputs": [],
   "source": [
    "import torch.optim as optim\n",
    "\n",
    "train_iter, test_iter, vocab, labels = dataloader(path_to_folder)\n",
    "\n",
    "WSDModel1 = WSDModel_approach1(len(vocab.vocab), embedding_dim)\n",
    "WSDModel2 = WSDModel_approach2(len(vocab.vocab), embedding_dim)\n",
    "loss_function = nn.CrossEntropyLoss() # the only Loss function used so far, so I follow the map (also, best for classification problems?)\n",
    "WSDModel1.to(device)\n",
    "WSDModel2.to(device)\n",
    "optimizer1 = optim.Adam(WSDModel1.parameters(), lr= learning_rate)\n",
    "optimizer2 = optim.Adam(WSDModel2.parameters(), lr= learning_rate)\n",
    "\n",
    "def model1():\n",
    "    WSDModel1.train()\n",
    "    total_loss = 0\n",
    "    for epoch in range(epochs):\n",
    "        for i, batch in enumerate(train_iter):\n",
    "            ??\n",
    "\n",
    "    # train model\n",
    "    ...\n",
    "    \n",
    "# test model after all epochs are completed"
   ]
  },
  {
   "cell_type": "markdown",
   "metadata": {},
   "source": [
    "# 2.2 Running a transformer for WSD"
   ]
  },
  {
   "cell_type": "markdown",
   "metadata": {},
   "source": [
    "In this section of the lab you'll try out the transformer, specifically the BERT model. For this we'll use the huggingface library (https://huggingface.co/).\n",
    "\n",
    "You can find the documentation for the BERT model here (https://huggingface.co/transformers/model_doc/bert.html) and a general usage guide here (https://huggingface.co/transformers/quickstart.html).\n",
    "\n",
    "What we're going to do is *fine-tune* the BERT model, i.e. update the weights of a pre-trained model. That is, we have a model that is trained on language modeling, but now we apply it to word sense disambiguation with the word representations it learnt from language modeling.\n",
    "\n",
    "We'll use the same data splits for training and testing as before, but this time you'll not use a torchtext dataloader. Rather now you create an iterator that collects N sentences (where N is the batch size) then use the BertTokenizer to transform the sentence into integers. For your dataloader, remember to:\n",
    "* Shuffle the data in each batch\n",
    "* Make sure you get a new iterator for each *epoch*\n",
    "* Create a vocabulary of *sense-labels* so you can calculate accuracy \n",
    "\n",
    "We then pass this batch into the BERT model and train as before. The BERT model will encode the sentence, then we send this encoded sentence into a prediction layer (you can either the the sentence-representation from bert, or the ambiguous word) like before and collect sense predictions.\n",
    "\n",
    "About the hyperparameters and training:\n",
    "* For BERT, usually a lower learning rate works best, between 0.0001-0.000001.\n",
    "* BERT takes alot of resources, running it on CPU will take ages, utilize the GPUs :)\n",
    "* Since BERT takes alot of resources, use a small batch size (4-8)\n",
    "* Computing the BERT representation, make sure you pass the mask\n",
    "\n",
    "**[10 marks]**"
   ]
  },
  {
   "cell_type": "code",
   "execution_count": null,
   "metadata": {},
   "outputs": [],
   "source": [
    "def dataloader_for_bert(path_to_file, batch_size):\n",
    "    ..."
   ]
  },
  {
   "cell_type": "code",
   "execution_count": null,
   "metadata": {},
   "outputs": [],
   "source": [
    "class BERT_WSD(nn.Module):\n",
    "    def __init__(self, ...):\n",
    "        # your code goes here\n",
    "        self.bert = ...\n",
    "        self.classifier = ...\n",
    "    \n",
    "    def forward(self, batch):\n",
    "        # your code goes here\n",
    "        \n",
    "        return predictions"
   ]
  },
  {
   "cell_type": "code",
   "execution_count": null,
   "metadata": {},
   "outputs": [],
   "source": [
    "loss_function = ...\n",
    "optimizer = ...\n",
    "model = ...\n",
    "\n",
    "for _ in range(epochs):\n",
    "    # train model\n",
    "    ...\n",
    "    \n",
    "# test model after all epochs are completed"
   ]
  },
  {
   "cell_type": "markdown",
   "metadata": {},
   "source": [
    "# 3. Evaluation"
   ]
  },
  {
   "cell_type": "markdown",
   "metadata": {},
   "source": [
    "Explain the difference between the first and second approach. What kind of representations are the different approaches using to predict word-senses? **[4 marks]**"
   ]
  },
  {
   "cell_type": "code",
   "execution_count": null,
   "metadata": {},
   "outputs": [],
   "source": []
  },
  {
   "cell_type": "markdown",
   "metadata": {},
   "source": [
    "Evaluate your model with per-word-form *accuracy* and comment on the results you get, how does the model perform in comparison to the baseline, and how do the models compare to each other? \n",
    "\n",
    "Expand on the evaluation by sorting the word-forms by the number of senses they have. Are word-forms with fewer senses easier to predict? Give a short explanation of the results you get based on the number of senses per word.\n",
    "\n",
    "**[6 marks]**"
   ]
  },
  {
   "cell_type": "markdown",
   "metadata": {},
   "source": [
    "How does the LSTMs perform in comparison to BERT? What's the difference between representations obtained by the LSTMs and BERT? **[2 marks]**"
   ]
  },
  {
   "cell_type": "code",
   "execution_count": null,
   "metadata": {},
   "outputs": [],
   "source": []
  },
  {
   "cell_type": "markdown",
   "metadata": {},
   "source": [
    "What could we do to improve our LSTM word sense disambiguation models and our BERT model? **[4 marks]**"
   ]
  },
  {
   "cell_type": "code",
   "execution_count": null,
   "metadata": {},
   "outputs": [],
   "source": []
  },
  {
   "cell_type": "markdown",
   "metadata": {},
   "source": [
    "# Readings:\n",
    "\n",
    "[1] Kågebäck, M., & Salomonsson, H. (2016). Word Sense Disambiguation using a Bidirectional LSTM. arXiv preprint arXiv:1606.03568.\n",
    "\n",
    "[2] https://cl.lingfil.uu.se/~nivre/master/NLP-LexSem.pdf"
   ]
  }
 ],
 "metadata": {
  "kernelspec": {
   "display_name": "Python 3",
   "language": "python",
   "name": "python3"
  },
  "language_info": {
   "codemirror_mode": {
    "name": "ipython",
    "version": 3
   },
   "file_extension": ".py",
   "mimetype": "text/x-python",
   "name": "python",
   "nbconvert_exporter": "python",
   "pygments_lexer": "ipython3",
   "version": "3.7.4"
  }
 },
 "nbformat": 4,
 "nbformat_minor": 2
}
