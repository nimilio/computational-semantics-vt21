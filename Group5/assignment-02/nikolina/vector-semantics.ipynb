{
 "cells": [
  {
   "cell_type": "markdown",
   "metadata": {},
   "source": [
    "# A2: Vector Semantics\n",
    "\n",
    "Nikolai Ilinykh, Mehdi Ghanimifard, Wafia Adouane and Simon Dobnik\n",
    "\n",
    "The lab is an exploration and learning exercise to be done in a group and also in discussion with the teachers and other students.\n",
    "\n",
    "Before starting, please read [the following instructions](https://github.com/sdobnik/computational-semantics/blob/master/README.md) on how to work on group assignments.\n",
    "\n",
    "Write all your answers and the code in the appropriate boxes below.\n",
    "\n",
    "In this lab we will look at how to build distributional semantic models from corpora and use semantic similarity captured by these models to do semantic tasks. We are also going to examine how different vector composition functions for phrases affect both the model and the learned information about similarities.  \n",
    "\n",
    "Note that this lab uses a code from `dist_erk.py`, which contains functions that highly resemble those shown during the lecture. In the end, you can use either of the functions (from the lecture / from the file) to solve the tasks."
   ]
  },
  {
   "cell_type": "code",
   "execution_count": 1,
   "metadata": {},
   "outputs": [],
   "source": [
    "# the following command simply imports all the methods from that code.\n",
    "from dist_erk import *"
   ]
  },
  {
   "cell_type": "markdown",
   "metadata": {},
   "source": [
    "## 1. Loading a corpus\n",
    "\n",
    "To train a distributional model, we first need a sufficiently large collection of texts which contain different words used frequently enough in different contexts. Here we will use a section of the Wikipedia corpus which you can download from [here](https://linux.dobnik.net/cloud/index.php/s/isMBj49jt5renYt?path=%2Fresources%2Fa2-distributional-representations) (wikipedia.txt.zip). (This file has been borrowed from another lab by [Richard Johansson](http://www.cse.chalmers.se/~richajo/)).  \n",
    "When unpacked, the file is 151mb, hence if you are using the MLT servers you should store it in a temporary folder outside your home and adjust the `corpus_dir` path below.  \n",
    "<!-- <It may already exist in `/opt/mlt/courses/cl2015/a5`.> -->\n"
   ]
  },
  {
   "cell_type": "code",
   "execution_count": 4,
   "metadata": {},
   "outputs": [],
   "source": [
    "corpus_dir = './wikipedia/'"
   ]
  },
  {
   "cell_type": "markdown",
   "metadata": {},
   "source": [
    "## 2. Building a model\n",
    "\n",
    "Now you are ready to build the model.  \n",
    "Using the methods from the code imported above build three word matrices with 1000 dimensions as follows:  \n",
    "\n",
    "(i) with raw counts (saved to a variable `space_1k`);  \n",
    "(ii) with PPMI (`ppmispace_1k`);  \n",
    "(iii) with reduced dimensions SVD (`svdspace_1k`).  \n",
    "For the latter use `svddim=5`. **[5 marks]**\n",
    "\n",
    "Your task is to replace `...` with function calls. Functions are imported from `dist_erk.py` earlier, and they largely resemble functions shown during the lecture."
   ]
  },
  {
   "cell_type": "code",
   "execution_count": 5,
   "metadata": {},
   "outputs": [
    {
     "name": "stdout",
     "output_type": "stream",
     "text": [
      "reading file wikipedia.txt\n",
      "create count matrices\n",
      "reading file wikipedia.txt\n",
      "ppmi transform\n",
      "svd transform\n",
      "done.\n"
     ]
    }
   ],
   "source": [
    "numdims = 1000 # Number of dimensions: number of vectors in a vector space for one word\n",
    "svddim = 5 # ???\n",
    "\n",
    "# which words to use as targets and context words?\n",
    "# we need to count the words and keep only the N most frequent ones\n",
    "# which function would you use here with which variable?\n",
    "ktw = do_word_count(corpus_dir,numdims)\n",
    "\n",
    "wi = make_word_index(ktw) # word index\n",
    "words_in_order = sorted(wi.keys(), key=lambda w:wi[w]) # sorted words\n",
    "\n",
    "\n",
    "# create different spaces (the original matrix space, the ppmi space, the svd space)\n",
    "# which functions with which arguments would you use here?\n",
    "print('create count matrices')\n",
    "space_1k = make_space(corpus_dir, wi, numdims)\n",
    "print('ppmi transform')\n",
    "ppmispace_1k = ppmi_transform(space_1k, wi)\n",
    "print('svd transform')\n",
    "svdspace_1k = svd_transform(ppmispace_1k, numdims, svddim) \n",
    "print('done.')"
   ]
  },
  {
   "cell_type": "code",
   "execution_count": 6,
   "metadata": {
    "scrolled": false
   },
   "outputs": [
    {
     "name": "stdout",
     "output_type": "stream",
     "text": [
      "house: [2554 3774 3105  567  962  631  443  185  311  189  131   28   93  169\n",
      "   81  125  151  408  194   90   79   29  217  184   62   15   31   70\n",
      "   10    1   41   21    1   31   37    1   30    5   25    7    3   20\n",
      "   11    1   32   36    2    5   66    4    0   46    8   18   28    0\n",
      "   20    7    8   16   10   40    0  175   10    2    7   19    1  174\n",
      "   11    3    1    6    0    0    0   10    9   11    7   24    4    4\n",
      "   14   23   58    7    0   10    2    3   10    6   18    6   13    3\n",
      "   22    0    3    5    3    7   14    3   40   20   19   15    6    8\n",
      "   24    4    5    1   19    0    3    1    0   14    0   14   53    7\n",
      "    7   11    6    5    5    4   12    6   53    1    1  433    4    0\n",
      "    5    7    7   12    1    1    3    4   17    8   16    1    2   31\n",
      "    1   12   14    1   44    6   14    9   38    7    2    6    8    1\n",
      "   10    6   10    1    9    7    9    4    3   10    0   11    3    2\n",
      "    0    2   11   37    2    0    2    1    5    9   10   16   88    6\n",
      "    0   21    1    1    0    2   47    3   27    7    0    2   13    1\n",
      "    2    0    5   31    0    1    0    3   10    0    1    0    3    3\n",
      "   17    1    1   16    3    7    4    7   15    4    0    0    2    5\n",
      "    0    2    0    5    0    9    0    0    8    0   10    0    0    0\n",
      "    2    0    1    3    1    3   15    1    9    0   19   14    0    0\n",
      "    3    2   18    3    1    3    2   19    5    2    4    1   10    6\n",
      "    0    3    3    6    4    2   25    4    6    3    1   25   10   15\n",
      "    3   10   15    1   10    1    8    1   13    1    2    9    9    1\n",
      "    4    1   25    0    4    6    5    5   36    0    2    2    2    0\n",
      "    0    2    3    3    0    1    4    6    5    0   50    2    5    2\n",
      "   14    6    2    2    4    1    9    4    5    3    1    0   12    3\n",
      "    3    2    2    0    0    1    4    7   12    5    0    2    1    2\n",
      "    3    4    7    3    5    0   29    7    1    1    0    3    3    3\n",
      "   10    0   14    2    0    2    4    6    0    5    0    0    1    1\n",
      "    4    1    1    0    0    0    0    3   20    0    0    2    1    5\n",
      "    3    8    3    5    1    2   66    1    2   19    2    1    3    3\n",
      "   21    5    4    2    2    0    4    3    5    0    7    1    6    1\n",
      "    3    3    1    0    3    0    2    0   89    2    3    1    1   14\n",
      "    0    2    1    9    2    3    2    4    2    0   25    0    0   23\n",
      "    0    6    2    1    3    0    2    5    0    4    4    3    0    4\n",
      "   58    3    1    6    2    4    3    3   11    1    1    1   10    0\n",
      "    7    3    1    6    1   18    1    0    4    2    0    8    5    2\n",
      "    0    0    0    0    5    1    2    1    1    3    1    2    1    1\n",
      "    0    6    1    4    1    3   20    1    0    5    2    5    2    1\n",
      "    0    0    0    2    6    1    1    0    1    1    1    0    0    3\n",
      "    3    0    0    6    6   74    3    0   13    5    2    2    1    5\n",
      "    3    3    1    7    4    0    0    2    3    0    4    0    4    1\n",
      "    0    2    5    2    1   14    2    0    0   19    0    1    2    1\n",
      "    0    3    2    0    0    3    1    3    3    2    7   18    7    6\n",
      "    6    0    1    9    1   10    2    0    2    0    2    4    0    0\n",
      "    1    2    0    1    0    2    0    0    0    2    1    2    2    0\n",
      "    3    2    2    0    0    1    2    3    1    1    1    2    0    0\n",
      "    3    0    7    2   39    0   14    0    1    1    0    1    5    3\n",
      "   11    0    3    0    1    1    0    0    1    9    2    1    0   11\n",
      "    1    3    7    0    0    0   32    1    0    0    0    1    1    3\n",
      "    0    9    0    2    0    1    3    2    6    0    3    0    0    2\n",
      "    3    0    1    0    1    4    0    0    1    1    0    0    5   21\n",
      "    2    1    1    3    0    1    7    1    3    4    0    5    3    0\n",
      "    7    2    0    4    2    0    2    1    4    4    0    0    0    5\n",
      "    3    2    2    0    4    0   23    2    2    2    4    0    1    0\n",
      "    4    0    3    5    3    0    8    0    1   16    1    2    2    7\n",
      "    0    0    1   11    1    0    4    0    1    0    1    2    1    5\n",
      "    0   97    0    2    0    3    0    8    1   14    4    9    2    3\n",
      "    1    1    0    3    4    0    5    1    5    2    0    0    0    2\n",
      "    1    2    1    1    1    1   12    0    2    5    1    0    0   13\n",
      "    2    0    0    0    2    2    0    0    3    1    1    1    1    0\n",
      "    1    2    1    0    0    0   10    0    1    0    1    1    1    1\n",
      "    0    1    0    0    3    2    5    0    0    2    1    0   23    0\n",
      "    0    4    0    1    0    0    0    1    1    2    1    0    1    0\n",
      "    0    4    1    0    1    1    5    1    1    0    1    0    0    0\n",
      "    1    0    0    2    2    3    0    1    0    4    3    3    1    4\n",
      "    0    0    0    6    1    2    1    0    5    3    0    0    1    2\n",
      "    0    5    0    0    2    1    1    4   15    0    0    1    1    3\n",
      "    1    0    1    4    1    1    2    8    1    3    0    0    0    0\n",
      "    1    3    2    1    0    1    0    2    0    0    0    0    1    1\n",
      "    0    1    3    7    0    0   42    4    0    1    2    3    1    0\n",
      "    1    3    2    0    0    4    0    0    0    4    2    0    0    8\n",
      "    2    0    1   15    0    0]\n",
      "life: [0.06170487 0.         0.75901395 0.50521955 0.70322633 0.18180399\n",
      " 0.02147885 0.         0.         0.         0.36686161 0.\n",
      " 0.         0.49611483 0.         0.         0.         1.57642132\n",
      " 0.7842675  0.07528833 0.         0.         0.07407023 2.54446795\n",
      " 0.         0.         0.75537278 0.         0.         0.\n",
      " 0.         0.         0.         0.         0.         0.\n",
      " 0.         0.         0.         0.         0.         0.\n",
      " 0.         0.         0.18040749 0.         0.         0.\n",
      " 0.         0.         0.         0.88644617 0.         0.44017584\n",
      " 0.         0.         0.48909576 0.         0.         0.\n",
      " 0.         0.33190274 0.         0.         0.         0.\n",
      " 0.         0.86487609 0.         0.         0.         0.\n",
      " 0.         0.         0.         0.         0.         0.\n",
      " 0.         0.         0.         0.22793294 0.         0.\n",
      " 0.         0.         0.59748252 0.         0.         0.\n",
      " 0.         0.         0.         0.         0.         0.\n",
      " 0.         0.         0.         0.         0.         0.\n",
      " 0.         0.         0.         0.         2.2474236  0.01744331\n",
      " 0.         0.         0.         0.         0.         0.\n",
      " 0.         0.         1.03154017 0.         0.         0.\n",
      " 0.         1.41760349 0.         0.         0.         0.\n",
      " 0.         0.34462894 0.         0.         0.         0.\n",
      " 0.10876533 0.         0.         0.         0.         0.\n",
      " 0.         0.         0.         0.         1.81139949 0.\n",
      " 0.         0.         0.         0.         0.         0.\n",
      " 0.         0.         0.         0.         0.         0.\n",
      " 0.         0.         0.         0.         0.         0.\n",
      " 0.         0.         0.         0.         0.         0.\n",
      " 0.46471274 0.         0.         0.         0.         0.\n",
      " 0.         0.         0.         0.         0.         0.\n",
      " 0.         3.20084349 0.         0.         0.         0.02965614\n",
      " 0.         0.         0.         0.         0.         0.\n",
      " 0.68609476 0.         0.         0.36800494 0.         0.\n",
      " 0.         0.         0.         0.         0.         0.\n",
      " 0.         0.         0.         0.         0.         0.\n",
      " 1.54730853 0.         0.67119453 0.         0.         0.\n",
      " 0.         0.08522379 0.16825644 0.         0.27016141 0.\n",
      " 0.         0.38868207 0.         0.         0.         0.11545107\n",
      " 0.         0.         0.         0.         0.         0.\n",
      " 0.         0.         0.         0.         0.         0.\n",
      " 0.         0.33813106 0.         0.         0.         0.\n",
      " 0.07759677 0.         0.         0.         0.         0.\n",
      " 0.         0.         1.22932858 0.         0.         0.\n",
      " 0.         0.         0.         0.         0.         0.63064978\n",
      " 0.         0.         0.         0.         0.         0.\n",
      " 0.         0.         0.         0.         0.         0.\n",
      " 0.         0.         0.         0.         0.         0.\n",
      " 0.         0.         0.         0.         0.         0.\n",
      " 0.         1.89097556 0.         1.81383572 1.87969004 0.49934183\n",
      " 0.         0.         0.         0.         0.         0.\n",
      " 0.         0.25381354 0.         0.         0.         0.\n",
      " 0.         0.         1.35091524 0.         0.06734498 0.39830728\n",
      " 0.         0.         0.         0.         0.         0.\n",
      " 0.         0.         1.81160957 1.82183411 0.         1.11767984\n",
      " 0.         0.         0.         0.         0.         0.\n",
      " 0.         0.         0.         0.         0.         1.30185118\n",
      " 0.         1.71478535 0.         0.07293529 0.         0.\n",
      " 0.         0.         0.         0.         0.         0.\n",
      " 0.         0.         0.         1.1249528  0.         0.\n",
      " 0.         0.         0.81053767 0.         0.         1.01791038\n",
      " 0.         0.         0.         0.46769758 0.         0.\n",
      " 0.         0.         0.00406403 0.         0.         0.\n",
      " 0.4040856  0.05272351 0.         0.         0.         0.2538664\n",
      " 0.         0.35280746 0.         0.         0.         0.\n",
      " 0.         0.         0.         0.         0.         0.\n",
      " 0.         0.         0.         0.         0.         0.\n",
      " 0.         0.         0.30086695 0.         0.         0.\n",
      " 0.         0.         0.33245893 0.07255366 0.         0.\n",
      " 0.         0.         2.22092123 1.31678066 0.         0.\n",
      " 0.         0.         0.         0.         0.         0.\n",
      " 0.         0.63589655 0.22641192 0.         0.         0.\n",
      " 0.         0.         0.         0.         0.40208514 0.\n",
      " 1.11167054 0.         0.         0.         0.         0.\n",
      " 0.         0.         0.         0.         0.11165159 0.\n",
      " 0.         0.09343252 0.         0.         0.16454693 0.95950596\n",
      " 0.         0.         0.04402669 0.02589752 0.         0.\n",
      " 0.         0.         0.         0.56063263 0.         0.\n",
      " 0.         0.         0.98140534 1.13150888 0.         0.08635933\n",
      " 0.         0.43802444 0.         0.         0.         1.68943513\n",
      " 0.         0.06139584 0.         0.         0.         0.93668577\n",
      " 0.         0.50227665 0.2809597  0.         0.         0.\n",
      " 0.         0.         0.         0.         0.         0.\n",
      " 0.         0.69856275 0.         0.         0.         0.\n",
      " 0.         0.         0.         0.         0.         0.\n",
      " 0.         0.         0.         0.         0.         0.\n",
      " 0.         0.         0.         0.         0.37471593 0.\n",
      " 0.         0.         0.         0.         0.04398424 0.\n",
      " 0.         0.45031985 0.         0.         0.         0.\n",
      " 0.26011588 0.         0.         0.         0.         0.\n",
      " 0.         0.         0.         0.         0.         0.\n",
      " 0.         1.09632987 0.18140385 0.         0.         0.\n",
      " 0.         0.         2.20522319 0.         0.         0.\n",
      " 0.         0.         0.         0.         0.         0.\n",
      " 0.71937823 0.34825044 0.         0.         2.09185985 0.76031838\n",
      " 0.         0.         0.         0.         0.         0.\n",
      " 0.         0.         0.         0.         0.         0.\n",
      " 0.         0.         1.46400265 0.         0.         0.\n",
      " 0.         0.         0.         0.67023469 0.58549327 0.\n",
      " 0.         0.         0.         0.         0.         0.\n",
      " 1.49354773 0.         0.         0.         0.6049645  3.58528099\n",
      " 0.         0.         1.81420912 1.20369688 0.         0.\n",
      " 0.         0.         0.         0.         0.         0.\n",
      " 0.         0.         0.         0.         0.         0.\n",
      " 0.         0.         0.         0.         0.         0.\n",
      " 0.         0.         0.         0.         0.         0.\n",
      " 0.         0.         0.         0.         0.         0.\n",
      " 0.         0.06518732 0.         0.         0.         0.4933866\n",
      " 0.26021467 0.         0.         0.         0.         0.\n",
      " 0.50998909 0.         0.         0.         0.         0.\n",
      " 0.         0.53339397 0.         0.         0.         3.23072793\n",
      " 0.         0.         0.07696205 0.         0.90080246 0.\n",
      " 0.         0.         0.76641862 0.         0.45605003 0.\n",
      " 0.18286584 0.         0.65875227 1.37452314 0.         0.\n",
      " 0.         0.         0.         0.         0.         0.\n",
      " 0.         0.         0.         1.34190545 0.         0.13790986\n",
      " 0.         0.         0.         0.         0.15942041 0.\n",
      " 0.         2.13569716 0.78840238 0.         0.28661365 0.\n",
      " 0.02059688 0.         0.         2.91941355 0.70886804 0.\n",
      " 0.99162669 0.         0.24661741 0.02568913 0.         2.61329995\n",
      " 0.         0.         0.         0.         0.         0.44926898\n",
      " 0.         0.         0.         0.03563633 0.         0.\n",
      " 0.         0.         0.         0.         0.         0.\n",
      " 0.32021144 0.         1.55511639 0.41748223 0.         0.\n",
      " 0.         0.         0.         0.         0.         0.\n",
      " 0.         0.         0.         0.         0.         0.\n",
      " 0.45003314 0.78083586 0.         0.         1.24336569 0.\n",
      " 0.1204785  0.         0.         0.         0.3652083  0.\n",
      " 0.         0.9449014  0.         0.         1.57972052 0.\n",
      " 0.         0.         0.         0.         0.         0.\n",
      " 0.         0.         0.22380469 0.         0.         0.\n",
      " 0.         2.43708183 0.         0.         0.         1.10441299\n",
      " 0.         0.         0.28905112 0.         0.         0.\n",
      " 0.         1.97935818 0.         1.39787223 0.         0.\n",
      " 0.         0.         0.         0.         0.         0.\n",
      " 0.45543985 0.         0.         0.0055556  0.         0.\n",
      " 0.54339162 0.73478043 0.         0.         0.         0.\n",
      " 0.         0.         0.         0.3440517  0.         0.\n",
      " 0.25581155 0.         0.         0.         0.         0.\n",
      " 0.         0.         0.         0.84015378 0.         0.\n",
      " 0.         0.         0.         0.         0.         0.\n",
      " 2.57276611 0.45873928 0.         0.67532903 0.         0.\n",
      " 0.07940911 0.         0.         0.         0.         0.\n",
      " 1.32499404 0.         0.         0.         0.         0.\n",
      " 0.         0.         0.         0.         0.         0.\n",
      " 0.         0.         0.         0.         0.         0.\n",
      " 0.12020362 0.02685672 0.         0.         0.         0.\n",
      " 0.16714035 0.         1.28454194 0.11340165 3.3545958  1.01661939\n",
      " 0.14075134 0.         0.         0.         0.66049008 0.\n",
      " 0.         0.25817499 0.12474877 0.         0.         0.\n",
      " 0.         0.         0.         0.         0.         0.\n",
      " 0.         0.4056437  0.         0.0791453  0.70538272 0.74067476\n",
      " 0.         0.         0.         0.         0.         0.\n",
      " 0.         0.         0.44969192 0.         0.96069951 0.\n",
      " 3.06990706 0.         0.         0.         0.         0.\n",
      " 0.         0.         1.66814697 0.         0.8218303  0.\n",
      " 0.23581607 0.         0.         0.         0.         0.\n",
      " 0.39783929 0.         0.         0.         0.         0.\n",
      " 0.         0.         0.         0.         0.         0.\n",
      " 0.         0.         0.         0.         0.12392084 0.\n",
      " 0.         1.00298223 0.         0.         0.         0.\n",
      " 1.7566691  0.13906949 0.         0.         0.23388966 0.\n",
      " 0.         0.         0.         0.         0.46884247 0.\n",
      " 0.         0.         0.4093067  0.         0.         1.32573236\n",
      " 0.         0.         0.         0.         0.         0.\n",
      " 0.         0.62104762 0.         0.         0.         0.46689694\n",
      " 0.         0.0487494  0.         0.         0.04616191 0.\n",
      " 0.         0.         0.00659768 0.01987153]\n",
      "nature: [-4.18308509  1.73813777  0.27984013  0.36560712 -0.66594136]\n"
     ]
    }
   ],
   "source": [
    "# now, to test the space, you can print vector representation for some words\n",
    "print('house:', space_1k['house'])\n",
    "print('life:', ppmispace_1k['life'])\n",
    "print('nature:', svdspace_1k['nature'])"
   ]
  },
  {
   "cell_type": "markdown",
   "metadata": {},
   "source": [
    "Oxford Advanced Dictionary has 185,000 words, hence 1,000 words is not representative. We trained a model with 10,000 words, and 50 dimensions on truncated SVD. It took 40 minutes on a laptop. We saved all three matrices [here](https://linux.dobnik.net/cloud/index.php/s/isMBj49jt5renYt?path=%2Fresources%2Fa2-distributional-representations) (pretrained.zip). Download them and unpack them to a `pretrained` folder which should be a subfolder of the folder with this notebook:"
   ]
  },
  {
   "cell_type": "code",
   "execution_count": 7,
   "metadata": {},
   "outputs": [
    {
     "name": "stdout",
     "output_type": "stream",
     "text": [
      "Please wait...\n",
      "Done.\n"
     ]
    }
   ],
   "source": [
    "import numpy as np\n",
    "\n",
    "numdims = 10000\n",
    "svddim = 50\n",
    "\n",
    "print('Please wait...')\n",
    "ktw_10k       = np.load('./pretrained/ktw_wikipediaktw.npy', allow_pickle=True)\n",
    "space_10k     = np.load('./pretrained/raw_wikipediaktw.npy', allow_pickle=True).all()\n",
    "ppmispace_10k = np.load('./pretrained/ppmi_wikipediaktw.npy', allow_pickle=True).all()\n",
    "svdspace_10k  = np.load('./pretrained/svd50_wikipedia10k.npy', allow_pickle=True).all()\n",
    "print('Done.')\n"
   ]
  },
  {
   "cell_type": "code",
   "execution_count": 8,
   "metadata": {},
   "outputs": [
    {
     "name": "stdout",
     "output_type": "stream",
     "text": [
      "house: [2554 3774 3105 ...    0    0    0]\n",
      "life: [4502 2079 3365 ...    0    0    0]\n",
      "historian: [693 183  77 ...   0   0   0]\n"
     ]
    }
   ],
   "source": [
    "# testing semantic space\n",
    "print('house:', space_10k['house'])\n",
    "print('life:', space_10k['life'])\n",
    "print('historian:', space_10k['historian'])"
   ]
  },
  {
   "cell_type": "markdown",
   "metadata": {},
   "source": [
    "## 3. Testing semantic similarity\n",
    "\n",
    "The file `similarity_judgements.txt` (a copy is included with this notebook) contains 7,576 pairs of words and their lexical and visual similarities (based on the pictures) collected through crowd-sourcing using Mechanical Turk as described in [1]. The score range from 1 (highly dissimilar) to 5 (highly similar). Note: this is a different dataset from the phrase similarity dataset we discussed during the lecture (the one from [2]). For more information, please read the papers.\n",
    "\n",
    "The following code will transform similarity scores into a Python-friendly format:"
   ]
  },
  {
   "cell_type": "code",
   "execution_count": 9,
   "metadata": {},
   "outputs": [
    {
     "name": "stdout",
     "output_type": "stream",
     "text": [
      "number of available words to test: 12\n",
      "number of available word pairs to test: 774\n"
     ]
    }
   ],
   "source": [
    "word_pairs = [] # test suit word pairs\n",
    "semantic_similarity = [] \n",
    "visual_similarity = []\n",
    "test_vocab = set()\n",
    "\n",
    "for index, line in enumerate(open('similarity_judgements.txt')):\n",
    "    data = line.strip().split('\\t')\n",
    "    if index > 0 and len(data) == 3:\n",
    "        w1, w2 = tuple(data[0].split('#'))\n",
    "        # it will check if both words from each pair exist in the word matrix.\n",
    "        if w1 in ktw_10k and w2 in ktw_10k:\n",
    "            word_pairs.append((w1, w2))\n",
    "            test_vocab.update([w1, w2])\n",
    "            semantic_similarity.append(float(data[1]))\n",
    "            visual_similarity.append(float(data[2]))\n",
    "        \n",
    "print('number of available words to test:', len(test_vocab-(test_vocab-set(ktw))))\n",
    "print('number of available word pairs to test:', len(word_pairs))\n",
    "#list(zip(word_pairs, visual_similarity, semantic_similarity))"
   ]
  },
  {
   "cell_type": "markdown",
   "metadata": {},
   "source": [
    "Now we are going to test how the cosine similarity between vectors of each of the three spaces (normal space, ppmi, svd) compares with the human similarity judgements for the words in the similarity dataset. Which of the three spaces best approximates human judgements?\n",
    "\n",
    "For comparison of several scores, we can use [Spearman correlation coefficient](https://en.wikipedia.org/wiki/Spearman's_rank_correlation_coefficient) which is implemented in `scipy.stats.spearmanr` [here](https://docs.scipy.org/doc/scipy-0.19.0/reference/generated/scipy.stats.spearmanr.html). The values of the Sperman correlation coefficient range from -1, 0 to 1, where 0 indicates no correlation, 1 perfect correaltion and -1 negative correlation. Hence, the greater the number the better the similarity scores align. The p values tells us if the coefficient is statistically significant. For this to be the case, it must be less than or equal to $< 0.05$.\n",
    "\n",
    "Here is how you can calculate Pearson's correlation coefficient betweeen the scores of visual similarity and semantic similarity of the available words in the test suite:"
   ]
  },
  {
   "cell_type": "code",
   "execution_count": 10,
   "metadata": {},
   "outputs": [
    {
     "name": "stdout",
     "output_type": "stream",
     "text": [
      "Visual Similarity vs. Semantic Similarity:\n",
      "rho     = 0.7122\n",
      "p-value = 0.0000\n"
     ]
    }
   ],
   "source": [
    "from scipy import stats\n",
    "\n",
    "rho, pval = stats.spearmanr(semantic_similarity, visual_similarity)\n",
    "print(\"\"\"Visual Similarity vs. Semantic Similarity:\n",
    "rho     = {:.4f}\n",
    "p-value = {:.4f}\"\"\".format(rho, pval))\n"
   ]
  },
  {
   "cell_type": "markdown",
   "metadata": {},
   "source": [
    "Let's now calculate the cosine similarity scores of all word pairs in an ordered list using all three matrices. **[6 marks]**"
   ]
  },
  {
   "cell_type": "code",
   "execution_count": 11,
   "metadata": {},
   "outputs": [],
   "source": [
    "from scipy.spatial import distance\n",
    "#https://docs.scipy.org/doc/scipy/reference/generated/scipy.spatial.distance.cosine.html\n",
    "\n",
    "raw_similarities  = [1- distance.cosine(space_10k[w1], space_10k[w2]) for w1, w2 in word_pairs]\n",
    "ppmi_similarities = [1- distance.cosine(ppmispace_10k[w1], ppmispace_10k[w2]) for w1, w2 in word_pairs]\n",
    "svd_similarities  = [1- distance.cosine(svdspace_10k[w1], svdspace_10k[w2]) for w1, w2 in word_pairs]\n",
    "#Notes around the web: \"spatial.distance.cosine computes the distance, and not the similarity --> subtract the value from 1 to get the similarity\"\n",
    "# I thought cosine distance shows the similarity directly (without subtraction)\n",
    "# \n",
    "#https://en.wikipedia.org/wiki/Cosine_similarity\n"
   ]
  },
  {
   "cell_type": "markdown",
   "metadata": {},
   "source": [
    "Now, calculate correlation coefficients between lists of similarity scores and the real semantic similarity scores from the experiment. The scores of what model best correlates them? Is this expected? **[6 marks]**"
   ]
  },
  {
   "cell_type": "code",
   "execution_count": 12,
   "metadata": {},
   "outputs": [
    {
     "name": "stdout",
     "output_type": "stream",
     "text": [
      "Raw similarities vs. Semantic Similarity:\n",
      "rho     = 0.1522\n",
      "p-value = 0.0000\n",
      "Ppmi similarities vs. Semantic Similarity:\n",
      "rho     = 0.4547\n",
      "p-value = 0.0000\n",
      "SVD similarities vs. Semantic Similarity:\n",
      "rho     = 0.4232\n",
      "p-value = 0.0000\n"
     ]
    }
   ],
   "source": [
    "\n",
    "rho1, pval1 = stats.spearmanr(semantic_similarity, raw_similarities)\n",
    "print(\"\"\"Raw similarities vs. Semantic Similarity:\n",
    "rho     = {:.4f}\n",
    "p-value = {:.4f}\"\"\".format(rho1, pval1))\n",
    "\n",
    "rho2, pval2 = stats.spearmanr(semantic_similarity, ppmi_similarities)\n",
    "print(\"\"\"Ppmi similarities vs. Semantic Similarity:\n",
    "rho     = {:.4f}\n",
    "p-value = {:.4f}\"\"\".format(rho2, pval2))\n",
    "\n",
    "rho3, pval3 = stats.spearmanr(semantic_similarity, svd_similarities)\n",
    "print(\"\"\"SVD similarities vs. Semantic Similarity:\n",
    "rho     = {:.4f}\n",
    "p-value = {:.4f}\"\"\".format(rho3, pval3))"
   ]
  },
  {
   "cell_type": "markdown",
   "metadata": {},
   "source": [
    "Here, Pearson's correlation coefficient is calculated based on the lists of similarity scores I calculated in [54]. (similarly to code in [42])\n",
    "Since the greater the rho number, the better the similarity scores align, it seems that the ppmi model model works best. The coefficient is statistically significant in all models since it's 0 (so less than 0.05).\n",
    "\n",
    "I am not quite sure what I should expect :| \n"
   ]
  },
  {
   "cell_type": "markdown",
   "metadata": {},
   "source": [
    "We can also calculate correlation coefficients between lists of cosine similarity scores and the real visual similarity scores from the experiment. Which similarity model best correlates with them? How do the correlation coefficients compare with those from the previous comparison - and can you speculate why do we get such results? **[7 marks]**"
   ]
  },
  {
   "cell_type": "code",
   "execution_count": 13,
   "metadata": {},
   "outputs": [
    {
     "name": "stdout",
     "output_type": "stream",
     "text": [
      "Raw similarities vs. Visual Similarity:\n",
      "rho     = 0.1212\n",
      "p-value = 0.0007\n",
      "Ppmi similarities vs. Visual Similarity:\n",
      "rho     = 0.3838\n",
      "p-value = 0.0000\n",
      "SVD similarities vs. Visual Similarity:\n",
      "rho     = 0.3097\n",
      "p-value = 0.0000\n"
     ]
    }
   ],
   "source": [
    "rho4, pval4 = stats.spearmanr(visual_similarity, raw_similarities)\n",
    "print(\"\"\"Raw similarities vs. Visual Similarity:\n",
    "rho     = {:.4f}\n",
    "p-value = {:.4f}\"\"\".format(rho4, pval4))\n",
    "\n",
    "rho5, pval5 = stats.spearmanr(visual_similarity, ppmi_similarities)\n",
    "print(\"\"\"Ppmi similarities vs. Visual Similarity:\n",
    "rho     = {:.4f}\n",
    "p-value = {:.4f}\"\"\".format(rho5, pval5))\n",
    "\n",
    "rho6, pval6 = stats.spearmanr(visual_similarity, svd_similarities)\n",
    "print(\"\"\"SVD similarities vs. Visual Similarity:\n",
    "rho     = {:.4f}\n",
    "p-value = {:.4f}\"\"\".format(rho6, pval6))"
   ]
  },
  {
   "cell_type": "markdown",
   "metadata": {},
   "source": [
    "Again the PPMI model works best but all models are less efficient than before. The coefficients remain the same, apart from that in the raw model, which means that it is less significant than the rest, but I am not aware why this is the case"
   ]
  },
  {
   "cell_type": "markdown",
   "metadata": {},
   "source": [
    "## 4. Operations on similarities"
   ]
  },
  {
   "cell_type": "markdown",
   "metadata": {},
   "source": [
    "We can perform mathematical operations on vectors to derive meaning predictions. For example, we can subtract the normalised vectors for `king` minus `queen` and add the resulting vector to `man` and we hope to get the vector for `woman`. Why? **[3 marks]**"
   ]
  },
  {
   "cell_type": "markdown",
   "metadata": {},
   "source": [
    "We expect that \"man\" is closer in the vector space to \"king\" and \"woman\" is closer to \"queen\". Or, man/woman and king/queen are diametrically opposite. However, this is a case that probably fits more in human intuition rather algebra as such. These words however can co-occur often, so they are likely to be similar.  "
   ]
  },
  {
   "cell_type": "markdown",
   "metadata": {},
   "source": [
    "Here is some helpful code that allows us to calculate such comparisons."
   ]
  },
  {
   "cell_type": "code",
   "execution_count": 14,
   "metadata": {},
   "outputs": [],
   "source": [
    "from scipy.spatial import distance\n",
    "\n",
    "def normalize(vec):\n",
    "    return vec / veclen(vec)\n",
    "\n",
    "def find_similar_to(vec1, space):\n",
    "    # vector similarity funciton\n",
    "    #sim_fn = lambda a, b: 1-distance.euclidean(normalize(a), normalize(b))\n",
    "    #sim_fn = lambda a, b: 1-distance.correlation(a, b)\n",
    "    #sim_fn = lambda a, b: 1-distance.cityblock(normalize(a), normalize(b))\n",
    "    #sim_fn = lambda a, b: 1-distance.chebyshev(normalize(a), normalize(b))\n",
    "    #sim_fn = lambda a, b: np.dot(normalize(a), normalize(b))\n",
    "    sim_fn = lambda a, b: 1-distance.cosine(a, b)\n",
    "\n",
    "    sims = [\n",
    "        (word2, sim_fn(vec1, space[word2]))\n",
    "        for word2 in space.keys()\n",
    "    ]\n",
    "    return sorted(sims, key = lambda p:p[1], reverse=True)"
   ]
  },
  {
   "cell_type": "markdown",
   "metadata": {},
   "source": [
    "Here is how you apply this code. Comment on the results you get. **[3 marks]**"
   ]
  },
  {
   "cell_type": "code",
   "execution_count": 15,
   "metadata": {},
   "outputs": [
    {
     "data": {
      "text/plain": [
       "[('long', 0.8733111261346901),\n",
       " ('above', 0.8259671977311955),\n",
       " ('around', 0.8030776291120685),\n",
       " ('sun', 0.7692439111243973),\n",
       " ('just', 0.7678481974778111),\n",
       " ('wide', 0.767257431992253),\n",
       " ('each', 0.7665960260861158),\n",
       " ('circle', 0.7647746702909336),\n",
       " ('length', 0.7601066921319761),\n",
       " ('almost', 0.7542351860536628)]"
      ]
     },
     "execution_count": 15,
     "metadata": {},
     "output_type": "execute_result"
    }
   ],
   "source": [
    "short = normalize(svdspace_10k['short'])\n",
    "light = normalize(svdspace_10k['light'])\n",
    "long = normalize(svdspace_10k['long'])\n",
    "heavy = normalize(svdspace_10k['heavy'])\n",
    "\n",
    "find_similar_to(light - (heavy - long), svdspace_10k)[:10]"
   ]
  },
  {
   "cell_type": "markdown",
   "metadata": {},
   "source": [
    "Probably we expect something close to the \"short\" meaning. I have no idea on the \"sun\" semantic representation and the \"circle\" as well. \"Sun\" and \"circle\" maybe corellate because the are both round (?) I think most results are metaphor interpretations, which are not incorretct, I was sure that at least one of the results would be the word \"tall\", which is the most obvious literal analogy for short."
   ]
  },
  {
   "cell_type": "markdown",
   "metadata": {},
   "source": [
    "Find 5 similar pairs of pairs of words and test them. Hint: Google for `word analogies examples`. You can also construct analogies that are less lexical but more grammatical, e.g. `see, saw, leave, ?` or analogies that are based on world knowledge as in the [Google analogy dataset](http://download.tensorflow.org/data/questions-words.txt) from [3]. Does the resulting vector similarity confirm your expectations? But remember you can only do this if the words are contained in our vector space with 10,000 dimensions. **[10 marks]**"
   ]
  },
  {
   "cell_type": "code",
   "execution_count": 16,
   "metadata": {},
   "outputs": [
    {
     "data": {
      "text/plain": [
       "[('night', 0.8886038339830423),\n",
       " ('morning', 0.8000957226947445),\n",
       " ('sun', 0.777799161109718),\n",
       " ('day', 0.7647056301917052),\n",
       " ('evening', 0.7575688171019718),\n",
       " ('watching', 0.75365192064434),\n",
       " ('sunday', 0.7464716284374743),\n",
       " ('end', 0.7453067996593553),\n",
       " ('room', 0.744111900775791),\n",
       " ('place', 0.7433668475829194)]"
      ]
     },
     "execution_count": 16,
     "metadata": {},
     "output_type": "execute_result"
    }
   ],
   "source": [
    "large = normalize(svdspace_10k['large'])\n",
    "small = normalize(svdspace_10k['small'])\n",
    "full = normalize(svdspace_10k['full'])\n",
    "empty = normalize(svdspace_10k['empty'])\n",
    "sun = normalize(svdspace_10k['sun'])\n",
    "moon = normalize(svdspace_10k['moon'])\n",
    "rich = normalize(svdspace_10k['rich'])\n",
    "poor = normalize(svdspace_10k['poor'])\n",
    "day = normalize(svdspace_10k['day'])\n",
    "night = normalize(svdspace_10k['night'])\n",
    "\n",
    "\n",
    "find_similar_to(sun - (moon - night), svdspace_10k)[:10]"
   ]
  },
  {
   "cell_type": "markdown",
   "metadata": {},
   "source": [
    "## 5. Semantic composition and phrase similarity **[20 marks]**\n",
    "\n",
    "In this task, we are going to look at how different semantic composition models, introduced in [2] correlate with human judgements. The file with the dataset is `mitchell_lapata_acl08.txt` included with this notebook. Your task is to do the following:  \n",
    "\n",
    "(i) process the dataset, extract pairs of `reference - landmark high` and `reference - landmark low`; you can use the code from the lecture as something to start with. Note that there are 2 landmarks for each reference: one landmark exhibits high similarity with the reference, while another one has low similarity with the reference. A single human participant could have evaluated both of these pairs. For more details, we refer you to the paper.  \n",
    "\n",
    "(ii) build models of semantic phrase composition: in the lecture we introduced simple additive, simple multiplicative and combined models (details are in [2]). Your task is to take a single pair (a reference or a high similarity landmark or a low similarity landmark) and compute the composition of its vectors using each of these functions. Thus, you will have three compositional models that take a `noun - verb` pair and output a single vector, representing the meaning of this pair. As your semantic space, you can use pretrained spaces (standard space, ppmi or svd) introduced above. It is up to you which space you use, but for someone who runs your code, it should be pretty straightforward to switch between them.\n",
    "\n",
    "(iii) calculate Spearman correlation between each model's predictions and human judgements; you should have something similar to the scores that are shown in the paper [2]:  "
   ]
  },
  {
   "cell_type": "markdown",
   "metadata": {},
   "source": [
    "![title](./res.png)"
   ]
  },
  {
   "cell_type": "markdown",
   "metadata": {},
   "source": [
    "The paper states that they calculated correlations between each individual participant's judgeements and each model's predictions.  \n",
    "\n",
    "Let's say we have 3 models: simple additive (A), simple multiplicative (M), combined (C).  \n",
    "From our task dataset, we also know that we have 20 participants.  \n",
    "Now, for each participant in 20 participants we get all `verb - noun` pairs that these participated evaluated.  \n",
    "For example:"
   ]
  },
  {
   "cell_type": "code",
   "execution_count": 17,
   "metadata": {},
   "outputs": [],
   "source": [
    "participant_judgemenets_example = [\n",
    " 'participant50 chatter child gabble 6 high',\n",
    " 'participant50 chatter tooth click 2 high',\n",
    " 'participant50 reel head whirl 5 high',\n",
    " 'participant50 reel mind stagger 4 low',\n",
    " 'participant50 reel industry stagger 5 high',\n",
    " 'participant50 reel man whirl 3 low',\n",
    " 'participant50 glow fire beam 7 low',\n",
    " 'participant50 glow face burn 3 low',\n",
    " 'participant50 glow cigar burn 5 high',\n",
    " 'participant50 glow skin beam 7 high'\n",
    "    \n",
    "]"
   ]
  },
  {
   "cell_type": "code",
   "execution_count": 18,
   "metadata": {},
   "outputs": [
    {
     "data": {
      "text/plain": [
       "['participant50 chatter child gabble 6 high',\n",
       " 'participant50 chatter tooth click 2 high',\n",
       " 'participant50 reel head whirl 5 high',\n",
       " 'participant50 reel mind stagger 4 low',\n",
       " 'participant50 reel industry stagger 5 high',\n",
       " 'participant50 reel man whirl 3 low',\n",
       " 'participant50 glow fire beam 7 low',\n",
       " 'participant50 glow face burn 3 low',\n",
       " 'participant50 glow cigar burn 5 high',\n",
       " 'participant50 glow skin beam 7 high']"
      ]
     },
     "execution_count": 18,
     "metadata": {},
     "output_type": "execute_result"
    }
   ],
   "source": [
    "participant_judgemenets_example"
   ]
  },
  {
   "cell_type": "markdown",
   "metadata": {},
   "source": [
    "Let's look at the first pair that participant50 evaluated: reference `child chatter` and high-level similarity landmark (as the last word in the row indicates) `child gabble`. The human gave the similarity score of 6 (very similar). Thus, human similarity judgment = [6].  \n",
    "\n",
    "Our A model's output:  \n",
    "cosine(p1, p2) = 0.88, where p1 is the result of addition of word vectors in the reference phrase `child gabble`, and p2 is the result of addition of word vectors in the high-level similarity phrase `child chatter`.  \n",
    "\n",
    "Therefore, we have human rating vector [6] and model A output [0.88]. Next is to compute correlation between these two vectors.\n",
    "\n",
    "To get an overall score, simply average your correlation scores over all participants, since you are calculating correlation scores per participant.\n",
    "\n",
    "Of course, your human rating vectors will be longer (e.g., [6, 7, 3, 4, 5]) where each element is a participant's judgement of a specific pair. Each of your models (A, B, C) will produce a single vector of cosine similarity between these same pairs (e.g., [0.89, 0.98, 0.23, 0.65, 0.55]). The goal is to compare each model's cosine similarity vectors with human rating vectors and identify the model which outputs the best result in terms of being the closest to the way human rate similarity between the phrases.\n",
    "\n",
    "The minimum to do in this task: compute correlations for 3 models mentioned above and human rating for AT LEAST one participant. Elaborate on how different the resulting correlation scores are depending on the model's composition function (additive, multiplicative, combined). For examples on how to interpret the results, look at Section 5 Results of the original paper."
   ]
  },
  {
   "cell_type": "code",
   "execution_count": 116,
   "metadata": {},
   "outputs": [
    {
     "name": "stdout",
     "output_type": "stream",
     "text": [
      "['participant20', ('butler', 'bow'), ('butler', 'submit'), '3', 'low']\n",
      "['participant20', ('company', 'bow'), ('company', 'submit'), '5', 'high']\n",
      "['participant20', ('sale', 'boom'), ('sale', 'thunder'), '3', 'low']\n",
      "['participant20', ('gun', 'boom'), ('gun', 'thunder'), '6', 'high']\n",
      "[2.9411764705882355, 4.323529411764706, 2.7941176470588234, 5.617647058823529]\n"
     ]
    }
   ],
   "source": [
    "# i) process dataset\n",
    "\n",
    "with open('./mitchell_lapata_acl08.txt', 'r') as file:\n",
    "    dataset = file.readlines()\n",
    "\n",
    "for_model = []\n",
    "\n",
    "human_judg = []\n",
    "\n",
    "\n",
    "def judgements(participant):\n",
    "    \n",
    "    for line in dataset:\n",
    "        if line.startswith(participant):\n",
    "            x = line.strip().split(' ')\n",
    "            participant = x[0]\n",
    "            ref1 = x[2],x[1]\n",
    "            ref2 = x[2],x[3]\n",
    "            in_put = x[4]\n",
    "            hilo = x[5]\n",
    "            if ref1[0] in ktw_10k and ref1[1] in ktw_10k and ref2[1] in ktw_10k: #if noun - verb do not exist in the words used to create ppmi model, it will raise an error in next function\n",
    "                for_model.append([participant, tuple(ref1), tuple(ref2), in_put, hilo])\n",
    "                \n",
    "                \n",
    "    for element in for_model: #find the human average for this participant's phrases\n",
    "        human = 0\n",
    "        index = 0\n",
    "        for line in dataset:\n",
    "            if element[1][0] in line and element[1][1] in line and element[2][1] in line :\n",
    "                x = line.strip().split(' ')\n",
    "                human += int(x[4])\n",
    "                index += 1\n",
    "        human_judg.append(human/index)\n",
    "\n",
    "        \n",
    "        \n",
    "        \n",
    "    for i in for_model:\n",
    "        print(i)\n",
    "\n",
    "judgements(\"participant20\")\n",
    "\n",
    "print(human_judg)"
   ]
  },
  {
   "cell_type": "code",
   "execution_count": 117,
   "metadata": {},
   "outputs": [
    {
     "name": "stdout",
     "output_type": "stream",
     "text": [
      "[['participant20', ('butler', 'bow'), ('butler', 'submit'), '3', 'low'], ['participant20', ('company', 'bow'), ('company', 'submit'), '5', 'high'], ['participant20', ('sale', 'boom'), ('sale', 'thunder'), '3', 'low'], ['participant20', ('gun', 'boom'), ('gun', 'thunder'), '6', 'high']]\n",
      "[0.5526327683917539, 0.6583911183944487, 0.5523089123061238, 0.6361155776620226]\n",
      "[0.008834018472734573, 0.02816092957418237, 0.002198703885207931, 0.022650956401095823]\n",
      "[0.05569285328761442, 0.05625826421678992, 0.04920854106442152, 0.04945030577212095]\n"
     ]
    }
   ],
   "source": [
    "# ii) create Additive, Multiplicative, Combined models\n",
    "    \n",
    "\n",
    "add_cos = []\n",
    "mult_cos = []\n",
    "comb_cos = []\n",
    "\n",
    "\n",
    "\n",
    "def additive(noun_vector,verb_vector,landmark_vector):\n",
    "    add1_pair = noun_vector + verb_vector\n",
    "    add2_pair = noun_vector + landmark_vector\n",
    "    add_cos.append(1- distance.cosine(add1_pair, add2_pair)) #cosine value\n",
    "    #return add1_pair, add2_pair\n",
    "\n",
    "def multiplicative(noun_vector,verb_vector,landmark_vector):\n",
    "    mult1_pair = noun_vector * verb_vector\n",
    "    mult2_pair = noun_vector * landmark_vector\n",
    "    mult_cos.append(1- distance.cosine(mult1_pair, mult2_pair)) #cosine value\n",
    "    #return mult1_pair, mult2_pair\n",
    "\n",
    "def combined(noun_vector, verb_vector, landmark_vector, alpha=0, beta=0.95, theta=0.05):\n",
    "    comb1_add_pair = (alpha * noun_vector) + (beta * verb_vector)\n",
    "    comb2_add_pair = (alpha * noun_vector) + (beta * landmark_vector)\n",
    "    comb1_mult_pair = theta * noun_vector * verb_vector\n",
    "    comb2_mult_pair = theta * noun_vector * landmark_vector\n",
    "    p_reference = comb1_add_pair + comb1_mult_pair\n",
    "    p_landmark = comb2_add_pair + comb2_mult_pair\n",
    "    comb_cos.append(1- distance.cosine(p_reference, p_landmark)) #cosine value\n",
    "    #return p_reference, p_landmark\n",
    "\n",
    "#I used the ppmi space because it presented the best results in the previous task\n",
    "\n",
    "space = ppmispace_10k\n",
    " \n",
    "# In order to find how similar 2 phrases are, we need to find the vectors of their components (discussion-thrive-digress)\n",
    "# and then combine those vectors\n",
    "\n",
    "for element in for_model: #feed the model with specific words retrieved from the dataset list\n",
    "    noun_vector = space[element[1][0]] # find vector for the noun\n",
    "    verb_vector = space[element[1][1]] # find vector for the verb1\n",
    "    landmark_vector = space[element[2][1]] # find vector for the verb2\n",
    "    hilo = element[4] \n",
    "    additive(noun_vector,verb_vector,landmark_vector) # add model\n",
    "    multiplicative(noun_vector,verb_vector,landmark_vector) # mult model\n",
    "    combined(noun_vector, verb_vector, landmark_vector, alpha=0, beta=0.95, theta=0.05) # comb model\n",
    "\n",
    "print(for_model)\n",
    "print(add_cos)\n",
    "print(mult_cos)\n",
    "print(comb_cos)"
   ]
  },
  {
   "cell_type": "code",
   "execution_count": 118,
   "metadata": {},
   "outputs": [
    {
     "name": "stdout",
     "output_type": "stream",
     "text": [
      "Additive model vs. Human judgement:\n",
      "rho     = 0.8000\n",
      "p-value = 0.2000\n",
      "Additive model vs. Human judgement:\n",
      "rho     = 0.8000\n",
      "p-value = 0.2000\n",
      "Additive model vs. Human judgement:\n",
      "rho     = 0.4000\n",
      "p-value = 0.6000\n"
     ]
    }
   ],
   "source": [
    "#iii) find models' correlations with human judgement\n",
    "\n",
    "rho_add, pval_add = stats.spearmanr(add_cos, human_judg)\n",
    "print(\"\"\"Additive model vs. Human judgement:\n",
    "rho     = {:.4f}\n",
    "p-value = {:.4f}\"\"\".format(rho_add, pval_add))\n",
    "\n",
    "rho_mult, pval_mult = stats.spearmanr(mult_cos, human_judg)\n",
    "print(\"\"\"Multiplicative model vs. Human judgement:\n",
    "rho     = {:.4f}\n",
    "p-value = {:.4f}\"\"\".format(rho_mult, pval_mult))\n",
    "\n",
    "rho_comb, pval_comb = stats.spearmanr(comb_cos, human_judg)\n",
    "print(\"\"\"Combined model vs. Human judgement:\n",
    "rho     = {:.4f}\n",
    "p-value = {:.4f}\"\"\".format(rho_comb, pval_comb))"
   ]
  },
  {
   "cell_type": "markdown",
   "metadata": {},
   "source": [
    "**Any comments/thoughts should go here:**"
   ]
  },
  {
   "cell_type": "markdown",
   "metadata": {},
   "source": [
    "# Literature\n",
    "\n",
    "  - [1] C. Silberer and M. Lapata. Learning grounded meaning representations with autoencoders. In Proceedings of the 52nd Annual Meeting of the Association for Computational Linguistics, pages 721–732, Baltimore, Maryland, USA, June 23–25 2014 2014. Association for Computational Linguistics.  \n",
    "\n",
    "  - [2] Mitchell, J., & Lapata, M. (2008). Vector-based Models of Semantic Composition. In Proceedings of ACL-08: HLT (pp. 236–244). Association for Computational Linguistics.\n",
    "  \n",
    "  - [3] T. Mikolov, I. Sutskever, K. Chen, G. S. Corrado, and J. Dean. Distributed representations of words and phrases and their compositionality. In Advances in neural information processing systems, pages 3111–3119, 2013."
   ]
  },
  {
   "cell_type": "markdown",
   "metadata": {},
   "source": [
    "## Marks\n",
    "\n",
    "This assignment has a total of 60 marks."
   ]
  }
 ],
 "metadata": {
  "kernelspec": {
   "display_name": "Python 3",
   "language": "python",
   "name": "python3"
  },
  "language_info": {
   "codemirror_mode": {
    "name": "ipython",
    "version": 3
   },
   "file_extension": ".py",
   "mimetype": "text/x-python",
   "name": "python",
   "nbconvert_exporter": "python",
   "pygments_lexer": "ipython3",
   "version": "3.7.4"
  }
 },
 "nbformat": 4,
 "nbformat_minor": 4
}
